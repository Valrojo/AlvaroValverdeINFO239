{
 "cells": [
  {
   "cell_type": "markdown",
   "metadata": {},
   "source": [
    "http://blockdiag.com/en/blockdiag/introduction.html#usage"
   ]
  },
  {
   "cell_type": "code",
   "execution_count": null,
   "metadata": {},
   "outputs": [],
   "source": [
    "from IPython.display import SVG"
   ]
  },
  {
   "cell_type": "code",
   "execution_count": null,
   "metadata": {},
   "outputs": [],
   "source": [
    "%%file images/information2.diag\n",
    "blockdiag {\n",
    "    default_fontsize = 12; \n",
    "    Q1 [label=\"¿Es A?\"]\n",
    "    Q2 [label=\"¿Es B?\"]\n",
    "    Q3 [label=\"¿Es C?\"]\n",
    "    A [shape = circle];\n",
    "    B [shape = circle];    \n",
    "    C [shape = circle];\n",
    "    D [shape = circle];\n",
    "    \n",
    "    \n",
    "    Q1 -> A [label = \"S\", fontsize=16]\n",
    "    Q1 -> Q2 [label = \"N\", fontsize=16]\n",
    "    Q2 -> B [label = \"S\", fontsize=16]\n",
    "    Q2 -> Q3 [label = \"N\", fontsize=16]\n",
    "    Q3 -> C [label = \"S\", fontsize=16]\n",
    "    Q3 -> D [label = \"N\", fontsize=16]\n",
    "\n",
    "}"
   ]
  },
  {
   "cell_type": "code",
   "execution_count": null,
   "metadata": {},
   "outputs": [],
   "source": [
    "!blockdiag -Tsvg images/information2.diag\n",
    "SVG(\"images/information2.svg\")"
   ]
  },
  {
   "cell_type": "code",
   "execution_count": null,
   "metadata": {},
   "outputs": [],
   "source": [
    "%%file images/information1.diag\n",
    "blockdiag {\n",
    "    default_fontsize = 12; \n",
    "    Q1 [label=\"¿Es A o B?\"]\n",
    "    Q21 [label=\"¿Es A?\"]\n",
    "    Q22 [label=\"¿Es C?\"]\n",
    "    A [shape = circle];\n",
    "    B [shape = circle];    \n",
    "    C [shape = circle];\n",
    "    D [shape = circle];\n",
    "    \n",
    "    \n",
    "    Q1 -> Q21 [label = \"S\", fontsize=16]\n",
    "    Q1 -> Q22 [label = \"N\", fontsize=16]\n",
    "    Q21 -> A [label = \"S\", fontsize=16]\n",
    "    Q21 -> B [label = \"N\", fontsize=16]\n",
    "    Q22 -> C [label = \"S\", fontsize=16]\n",
    "    Q22 -> D [label = \"N\", fontsize=16]\n",
    "\n",
    "}"
   ]
  },
  {
   "cell_type": "code",
   "execution_count": null,
   "metadata": {},
   "outputs": [],
   "source": [
    "!blockdiag -Tsvg images/information1.diag\n",
    "SVG(\"images/information1.svg\")"
   ]
  },
  {
   "cell_type": "code",
   "execution_count": null,
   "metadata": {},
   "outputs": [],
   "source": [
    "%%file images/shannon-diagram.diag\n",
    "blockdiag {\n",
    "    orientation = portrait\n",
    "    default_fontsize = 12; \n",
    "    A [label=\"Fuente\"]\n",
    "    B [label=\"Transmisor\"]\n",
    "    C [label=\"Canal\", color=lightblue]\n",
    "    D [label=\"Ruido\"]\n",
    "    E [label=\"Receptor\"]\n",
    "    F [label=\"Destino\"]\n",
    "    A -> B [label = \"mensaje\"]\n",
    "    B -> C [label = \"señal\"];\n",
    "    C -> E -> F\n",
    "    D -> C [style=dashed]\n",
    "\n",
    "}"
   ]
  },
  {
   "cell_type": "code",
   "execution_count": null,
   "metadata": {},
   "outputs": [],
   "source": [
    "!blockdiag -Tsvg images/shannon-diagram.diag"
   ]
  },
  {
   "cell_type": "code",
   "execution_count": null,
   "metadata": {},
   "outputs": [],
   "source": [
    "SVG(\"images/shannon-diagram.svg\")"
   ]
  },
  {
   "cell_type": "code",
   "execution_count": null,
   "metadata": {},
   "outputs": [],
   "source": [
    "%%file images/transmitter.diag\n",
    "blockdiag {\n",
    "    node_width = 200;\n",
    "    default_fontsize = 14; \n",
    "    A [label=\"Transformación\"]\n",
    "    B [label=\"Cuantización\"]\n",
    "    C [label=\"Codificación de fuente\"]\n",
    "    D [label=\"Codificación de canal\"]\n",
    "\n",
    "    A -> B -> C -> D\n",
    "    B -> C [folded]\n",
    "\n",
    "}"
   ]
  },
  {
   "cell_type": "code",
   "execution_count": null,
   "metadata": {},
   "outputs": [],
   "source": [
    "!blockdiag -Tsvg images/transmitter.diag"
   ]
  },
  {
   "cell_type": "code",
   "execution_count": null,
   "metadata": {},
   "outputs": [],
   "source": [
    "SVG(\"images/transmitter.svg\")"
   ]
  },
  {
   "cell_type": "code",
   "execution_count": null,
   "metadata": {},
   "outputs": [],
   "source": [
    "%%file images/JPEG.diag\n",
    "blockdiag {\n",
    "    node_width = 200;\n",
    "    default_fontsize = 14; \n",
    "    A [label=\"YCbCr 4:2:2\"]\n",
    "    B [label=\"DCT en bloques de 8x8\"]\n",
    "    C [label=\"Cuantización con matriz Q\"]\n",
    "    D [label=\"Codificación de Huffman\"]\n",
    "\n",
    "    A -> B -> C -> D\n",
    "    #B -> C [folded]\n",
    "\n",
    "}"
   ]
  },
  {
   "cell_type": "code",
   "execution_count": null,
   "metadata": {},
   "outputs": [],
   "source": [
    "!blockdiag -Tsvg images/JPEG.diag\n",
    "SVG(\"images/JPEG.svg\")"
   ]
  },
  {
   "cell_type": "code",
   "execution_count": null,
   "metadata": {},
   "outputs": [],
   "source": []
  }
 ],
 "metadata": {
  "kernelspec": {
   "display_name": "Python 3",
   "language": "python",
   "name": "python3"
  },
  "language_info": {
   "codemirror_mode": {
    "name": "ipython",
    "version": 3
   },
   "file_extension": ".py",
   "mimetype": "text/x-python",
   "name": "python",
   "nbconvert_exporter": "python",
   "pygments_lexer": "ipython3",
   "version": "3.8.1"
  }
 },
 "nbformat": 4,
 "nbformat_minor": 2
}
